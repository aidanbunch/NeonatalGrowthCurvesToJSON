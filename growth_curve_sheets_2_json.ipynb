{
 "cells": [
  {
   "cell_type": "markdown",
   "metadata": {},
   "source": [
    "## Install Requirements"
   ]
  },
  {
   "cell_type": "code",
   "execution_count": 1,
   "metadata": {},
   "outputs": [
    {
     "name": "stdout",
     "output_type": "stream",
     "text": [
      "Defaulting to user installation because normal site-packages is not writeable\n",
      "Requirement already satisfied: pandas in /Library/Frameworks/Python.framework/Versions/3.7/lib/python3.7/site-packages (1.3.5)\n",
      "Requirement already satisfied: pytz>=2017.3 in /Library/Frameworks/Python.framework/Versions/3.7/lib/python3.7/site-packages (from pandas) (2019.3)\n",
      "Requirement already satisfied: python-dateutil>=2.7.3 in /Library/Frameworks/Python.framework/Versions/3.7/lib/python3.7/site-packages (from pandas) (2.8.1)\n",
      "Requirement already satisfied: numpy>=1.17.3 in /Library/Frameworks/Python.framework/Versions/3.7/lib/python3.7/site-packages (from pandas) (1.19.5)\n",
      "Requirement already satisfied: six>=1.5 in /Library/Frameworks/Python.framework/Versions/3.7/lib/python3.7/site-packages (from python-dateutil>=2.7.3->pandas) (1.15.0)\n",
      "\u001b[33mWARNING: You are using pip version 22.0.4; however, version 23.1.2 is available.\n",
      "You should consider upgrading via the '/Library/Frameworks/Python.framework/Versions/3.7/bin/python3.7 -m pip install --upgrade pip' command.\u001b[0m\u001b[33m\n",
      "\u001b[0mNote: you may need to restart the kernel to use updated packages.\n"
     ]
    }
   ],
   "source": [
    "!pip install pandas"
   ]
  },
  {
   "cell_type": "code",
   "execution_count": 2,
   "metadata": {},
   "outputs": [
    {
     "name": "stdout",
     "output_type": "stream",
     "text": [
      "Defaulting to user installation because normal site-packages is not writeable\n",
      "Requirement already satisfied: openpyxl in /Library/Frameworks/Python.framework/Versions/3.7/lib/python3.7/site-packages (3.0.9)\n",
      "Requirement already satisfied: et-xmlfile in /Library/Frameworks/Python.framework/Versions/3.7/lib/python3.7/site-packages (from openpyxl) (1.1.0)\n",
      "\u001b[33mWARNING: You are using pip version 22.0.4; however, version 23.1.2 is available.\n",
      "You should consider upgrading via the '/Library/Frameworks/Python.framework/Versions/3.7/bin/python3.7 -m pip install --upgrade pip' command.\u001b[0m\u001b[33m\n",
      "\u001b[0mNote: you may need to restart the kernel to use updated packages.\n"
     ]
    }
   ],
   "source": [
    "!pip install openpyxl"
   ]
  },
  {
   "cell_type": "markdown",
   "metadata": {},
   "source": [
    "## Convert Growth Curve Sheets"
   ]
  },
  {
   "cell_type": "code",
   "execution_count": 3,
   "metadata": {},
   "outputs": [],
   "source": [
    "import pandas as pd\n",
    "import os\n",
    "\n",
    "# Load growth curve files from current directory\n",
    "sheetNames = ['chou_HC.xlsx', 'chou_length.xlsx', 'chou_weight.xlsx']\n",
    "\n",
    "for sheet in sheetNames:\n",
    "    old_filename = sheet\n",
    "    new_filename = old_filename.split('.')[0]\n",
    "\n",
    "    # Read the XLSX file\n",
    "    data = pd.read_excel(old_filename)\n",
    "\n",
    "    # Group data by GA_GROUP and Sex\n",
    "    grouped_data = data.groupby(['GA_GROUP', 'Sex'])\n",
    "\n",
    "    # Iterate through each group\n",
    "    for group, group_data in grouped_data:\n",
    "        ga_group, sex = group\n",
    "        sheet_name = f'{new_filename}_GA{ga_group}_{sex}'\n",
    "\n",
    "        # Remove empty fields\n",
    "        columns_to_remove = ['PatientSeqID', 'Weight', 'Length', 'DailyHC']\n",
    "        group_data = group_data.drop(columns=columns_to_remove)\n",
    "\n",
    "        # Multiply specified columns if 'weight' is in the filename\n",
    "        if 'weight' in old_filename:\n",
    "            cols_to_multiply = ['percentile_3_var', 'percentile_10_var', 'percentile_25_var', 'percentile_50_var',\n",
    "                                'percentile_75_var', 'percentile_90_var', 'percentile_97_var']\n",
    "            group_data[cols_to_multiply] = group_data[cols_to_multiply].apply(lambda x: x * 1000)\n",
    "\n",
    "        # Save the sheet as a JSON file\n",
    "        json_filename = f'{sheet_name}.json'\n",
    "        group_data.to_json(json_filename, orient='records')"
   ]
  },
  {
   "cell_type": "markdown",
   "metadata": {},
   "source": [
    "## Convert Sample Workbook Curves to JSON"
   ]
  },
  {
   "cell_type": "code",
   "execution_count": 4,
   "metadata": {},
   "outputs": [],
   "source": [
    "import openpyxl\n",
    "import json\n",
    "\n",
    "# Load Excel workbook from current directory\n",
    "workbook = openpyxl.load_workbook('GA22wkGroupTablesFemaleWkbk.xlsx')\n",
    "\n",
    "# Iterate through each sheet\n",
    "for sheet in workbook.worksheets:\n",
    "    # Get headers from the first row\n",
    "    headers = [cell.value for cell in sheet[1]]\n",
    "\n",
    "    # Convert rows to dictionaries\n",
    "    data = [dict(zip(headers, row)) for row in sheet.iter_rows(min_row=2, values_only=True)]\n",
    "\n",
    "    # Remove empty values\n",
    "    clean_data = [{k: v for k, v in row.items() if v is not None and v != ''} for row in data]\n",
    "\n",
    "    # Multiply values by 1000 if sheet is titled \"Chou_weight\"\n",
    "    if sheet.title == \"Chou_weight\":\n",
    "        for row in clean_data:\n",
    "            for key in [\"percentile_3_var\", \"percentile_10_var\", \"percentile_25_var\", \"percentile_75_var\", \"percentile_90_var\", \"percentile_97_var\"]:\n",
    "                if key in row:\n",
    "                    row[key] = row[key] * 1000\n",
    "\n",
    "    # Write sheet to JSON file\n",
    "    with open(f'{sheet.title}.json', 'w') as outfile:\n",
    "        json.dump(clean_data, outfile)\n"
   ]
  }
 ],
 "metadata": {
  "kernelspec": {
   "display_name": "Python 3",
   "language": "python",
   "name": "python3"
  },
  "language_info": {
   "codemirror_mode": {
    "name": "ipython",
    "version": 3
   },
   "file_extension": ".py",
   "mimetype": "text/x-python",
   "name": "python",
   "nbconvert_exporter": "python",
   "pygments_lexer": "ipython3",
   "version": "3.7.3"
  }
 },
 "nbformat": 4,
 "nbformat_minor": 2
}
